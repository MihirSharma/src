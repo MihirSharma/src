{
 "cells": [
  {
   "cell_type": "code",
   "execution_count": 2,
   "metadata": {},
   "outputs": [],
   "source": [
    "import pandas as pd\n",
    "import numpy as np"
   ]
  },
  {
   "cell_type": "code",
   "execution_count": 14,
   "metadata": {
    "scrolled": true
   },
   "outputs": [],
   "source": [
    "df_new =pd.read_csv('C:/Users/Nayan/Desktop/Assignments/Term IV/Capstone/Capstone_modified.csv')\n",
    "support_data = pd.read_csv('C:/Users/Nayan/Desktop/Assignments/Term IV/Capstone/Support_harkirat.csv')\n",
    "#cosine_sim = np.load('C:/Users/Nayan/Desktop/Assignments/Term IV/Capstone/cosing_harkirat.npy')\n",
    "indices = pd.read_csv('C:/Users/Nayan/Desktop/Assignments/Term IV/Capstone/indices_harkirat.csv',names = ['name','indices'])"
   ]
  },
  {
   "cell_type": "code",
   "execution_count": 8,
   "metadata": {},
   "outputs": [],
   "source": [
    "indices = pd.Series(indices.index, index=indices['name']).drop_duplicates()"
   ]
  },
  {
   "cell_type": "code",
   "execution_count": 9,
   "metadata": {},
   "outputs": [
    {
     "data": {
      "text/plain": [
       "name\n",
       "Razer BlackWidow Chroma Keyboard        0\n",
       "AVA-VIV Blouse                          1\n",
       "Leather Horse Statues                   2\n",
       "24K GOLD plated rose                    3\n",
       "Bundled items requested for Ruie        4\n",
       "                                    ...  \n",
       "Tarte Park Ave Princess             23603\n",
       "Air jordan Low Top 6                23604\n",
       "Free People moonshine sweater       23605\n",
       "Nose piercing                       23606\n",
       "Lularoe OS leggings sunglasses      23607\n",
       "Length: 23608, dtype: int64"
      ]
     },
     "execution_count": 9,
     "metadata": {},
     "output_type": "execute_result"
    }
   ],
   "source": [
    "indices"
   ]
  },
  {
   "cell_type": "code",
   "execution_count": 10,
   "metadata": {},
   "outputs": [],
   "source": [
    "def get_comp(value):\n",
    "    return support_data[(support_data['name_x'] == value) | (support_data['name_y'] == value)].sort_values(by = 'support',ascending = False).head(10) "
   ]
  },
  {
   "cell_type": "code",
   "execution_count": 11,
   "metadata": {},
   "outputs": [
    {
     "data": {
      "text/html": [
       "<div>\n",
       "<style scoped>\n",
       "    .dataframe tbody tr th:only-of-type {\n",
       "        vertical-align: middle;\n",
       "    }\n",
       "\n",
       "    .dataframe tbody tr th {\n",
       "        vertical-align: top;\n",
       "    }\n",
       "\n",
       "    .dataframe thead th {\n",
       "        text-align: right;\n",
       "    }\n",
       "</style>\n",
       "<table border=\"1\" class=\"dataframe\">\n",
       "  <thead>\n",
       "    <tr style=\"text-align: right;\">\n",
       "      <th></th>\n",
       "      <th>Unnamed: 0</th>\n",
       "      <th>name_x</th>\n",
       "      <th>name_y</th>\n",
       "      <th>support</th>\n",
       "      <th>price_x</th>\n",
       "      <th>price_y</th>\n",
       "    </tr>\n",
       "  </thead>\n",
       "  <tbody>\n",
       "    <tr>\n",
       "      <th>36</th>\n",
       "      <td>36</td>\n",
       "      <td>sweat pants</td>\n",
       "      <td>11\" Baltic amber teething necklace</td>\n",
       "      <td>0.388889</td>\n",
       "      <td>13.0</td>\n",
       "      <td>20.0</td>\n",
       "    </tr>\n",
       "    <tr>\n",
       "      <th>38</th>\n",
       "      <td>38</td>\n",
       "      <td>sweat pants</td>\n",
       "      <td>Soul Calibur II Xbox Game</td>\n",
       "      <td>0.388889</td>\n",
       "      <td>13.0</td>\n",
       "      <td>8.0</td>\n",
       "    </tr>\n",
       "    <tr>\n",
       "      <th>39</th>\n",
       "      <td>39</td>\n",
       "      <td>MLB Cincinnati Reds T Shirt Size XL</td>\n",
       "      <td>sweat pants</td>\n",
       "      <td>0.388889</td>\n",
       "      <td>10.0</td>\n",
       "      <td>13.0</td>\n",
       "    </tr>\n",
       "    <tr>\n",
       "      <th>37</th>\n",
       "      <td>37</td>\n",
       "      <td>sweat pants</td>\n",
       "      <td>2 Polo Rugby(Wingtips)</td>\n",
       "      <td>0.388889</td>\n",
       "      <td>13.0</td>\n",
       "      <td>20.0</td>\n",
       "    </tr>\n",
       "    <tr>\n",
       "      <th>80</th>\n",
       "      <td>80</td>\n",
       "      <td>NWOT NIKE TUNIC TOP</td>\n",
       "      <td>sweat pants</td>\n",
       "      <td>0.333333</td>\n",
       "      <td>24.0</td>\n",
       "      <td>13.0</td>\n",
       "    </tr>\n",
       "    <tr>\n",
       "      <th>393</th>\n",
       "      <td>393</td>\n",
       "      <td>Lulaoe julia stars</td>\n",
       "      <td>sweat pants</td>\n",
       "      <td>0.333333</td>\n",
       "      <td>20.0</td>\n",
       "      <td>13.0</td>\n",
       "    </tr>\n",
       "    <tr>\n",
       "      <th>337</th>\n",
       "      <td>337</td>\n",
       "      <td>VSX the player racerback sports bra</td>\n",
       "      <td>sweat pants</td>\n",
       "      <td>0.333333</td>\n",
       "      <td>15.0</td>\n",
       "      <td>13.0</td>\n",
       "    </tr>\n",
       "    <tr>\n",
       "      <th>306</th>\n",
       "      <td>306</td>\n",
       "      <td>MTV half shirt</td>\n",
       "      <td>sweat pants</td>\n",
       "      <td>0.333333</td>\n",
       "      <td>7.0</td>\n",
       "      <td>13.0</td>\n",
       "    </tr>\n",
       "    <tr>\n",
       "      <th>262</th>\n",
       "      <td>262</td>\n",
       "      <td>sweat pants</td>\n",
       "      <td>iPhone 6/6S, 7 360 Full Armor Case</td>\n",
       "      <td>0.333333</td>\n",
       "      <td>13.0</td>\n",
       "      <td>8.0</td>\n",
       "    </tr>\n",
       "    <tr>\n",
       "      <th>238</th>\n",
       "      <td>238</td>\n",
       "      <td>Rae Dunn Good Morning Bowl</td>\n",
       "      <td>sweat pants</td>\n",
       "      <td>0.333333</td>\n",
       "      <td>18.0</td>\n",
       "      <td>13.0</td>\n",
       "    </tr>\n",
       "  </tbody>\n",
       "</table>\n",
       "</div>"
      ],
      "text/plain": [
       "     Unnamed: 0                               name_x  \\\n",
       "36           36                          sweat pants   \n",
       "38           38                          sweat pants   \n",
       "39           39  MLB Cincinnati Reds T Shirt Size XL   \n",
       "37           37                          sweat pants   \n",
       "80           80                  NWOT NIKE TUNIC TOP   \n",
       "393         393                   Lulaoe julia stars   \n",
       "337         337  VSX the player racerback sports bra   \n",
       "306         306                       MTV half shirt   \n",
       "262         262                          sweat pants   \n",
       "238         238           Rae Dunn Good Morning Bowl   \n",
       "\n",
       "                                 name_y   support  price_x  price_y  \n",
       "36   11\" Baltic amber teething necklace  0.388889     13.0     20.0  \n",
       "38            Soul Calibur II Xbox Game  0.388889     13.0      8.0  \n",
       "39                          sweat pants  0.388889     10.0     13.0  \n",
       "37               2 Polo Rugby(Wingtips)  0.388889     13.0     20.0  \n",
       "80                          sweat pants  0.333333     24.0     13.0  \n",
       "393                         sweat pants  0.333333     20.0     13.0  \n",
       "337                         sweat pants  0.333333     15.0     13.0  \n",
       "306                         sweat pants  0.333333      7.0     13.0  \n",
       "262  iPhone 6/6S, 7 360 Full Armor Case  0.333333     13.0      8.0  \n",
       "238                         sweat pants  0.333333     18.0     13.0  "
      ]
     },
     "execution_count": 11,
     "metadata": {},
     "output_type": "execute_result"
    }
   ],
   "source": [
    "get_comp('sweat pants')"
   ]
  },
  {
   "cell_type": "code",
   "execution_count": null,
   "metadata": {},
   "outputs": [],
   "source": [
    "cosine_sim"
   ]
  },
  {
   "cell_type": "code",
   "execution_count": null,
   "metadata": {},
   "outputs": [],
   "source": [
    "def get_subsitute(name, cosine_sim=cosine_sim):\n",
    "    # Get the index of the item that matches the title\n",
    "    idx = indices[name]\n",
    "    print(idx)\n",
    "\n",
    "    # Get the pairwsie similarity scores of all items with that items\n",
    "    sim_scores = list(enumerate(cosine_sim[idx]))\n",
    "    \n",
    "    # Sort the items based on the similarity scores\n",
    "    sim_scores = sorted(sim_scores, key=lambda x: x[1], reverse=True)\n",
    "    \n",
    "    # Get the scores of the 10 most similar items\n",
    "    sim_scores = sim_scores[1:11]\n",
    "    \n",
    "    # Get the items indices\n",
    "    item_indices = [i[0] for i in sim_scores]\n",
    "    \n",
    "    # Return the top 10 most similar items\n",
    "    #return df_new['name'].iloc[item_indices]\n",
    "    return df_new.iloc[item_indices].sort_values(by = 'price')"
   ]
  },
  {
   "cell_type": "code",
   "execution_count": 12,
   "metadata": {},
   "outputs": [
    {
     "ename": "NameError",
     "evalue": "name 'get_subsitute' is not defined",
     "output_type": "error",
     "traceback": [
      "\u001b[1;31m---------------------------------------------------------------------------\u001b[0m",
      "\u001b[1;31mNameError\u001b[0m                                 Traceback (most recent call last)",
      "\u001b[1;32m<ipython-input-12-49f485c6d245>\u001b[0m in \u001b[0;36m<module>\u001b[1;34m\u001b[0m\n\u001b[1;32m----> 1\u001b[1;33m \u001b[0mget_subsitute\u001b[0m\u001b[1;33m(\u001b[0m\u001b[1;34m'Girls Nike Pro shorts'\u001b[0m\u001b[1;33m)\u001b[0m\u001b[1;33m\u001b[0m\u001b[1;33m\u001b[0m\u001b[0m\n\u001b[0m",
      "\u001b[1;31mNameError\u001b[0m: name 'get_subsitute' is not defined"
     ]
    }
   ],
   "source": [
    "get_subsitute('Girls Nike Pro shorts')"
   ]
  },
  {
   "cell_type": "code",
   "execution_count": null,
   "metadata": {},
   "outputs": [],
   "source": [
    "# initialize gui\n",
    "from tkinter import *\n",
    "from pandastable import Table\n",
    "#insert widgets to process input\n",
    "class MyWindow:\n",
    "    def __init__(self, win):\n",
    "        lbl1=Label(win, text='Item')\n",
    "        lbl2=Label(win, text='Result')\n",
    "        t1=Entry(bd=3)\n",
    "        t2=Entry()\n",
    "        btn1=Button(win, text='Complement')\n",
    "        btn2=Button(win, text='Substitute')\n",
    "        lbl1.place(x=100, y=50)\n",
    "        t1.place(x=300, y=50)\n",
    "        #define user inputs after the command function\n",
    "        b1=Button(win, text='Complement',command=get_comp('sweat pants'))\n",
    "        b2=Button(win, text='Substitute',command=get_subsitute('American Eagle jeans'))\n",
    "        #bind functions here\n",
    "        b1.bind('<Button1>')\n",
    "        b2.bind('<Button1>')\n",
    "        b1.place(x=100, y=150)\n",
    "        b2.place(x=300, y=150)\n",
    "        lbl2.place(x=100, y=200)\n",
    "        t2.place(x=300, y=200)\n",
    "        #define backend after this line\n",
    "window=Tk()\n",
    "mywin=MyWindow(window)\n",
    "window.title('Pricing Engine')\n",
    "window.geometry(\"400x300+10+10\")\n",
    "window.mainloop()"
   ]
  }
 ],
 "metadata": {
  "kernelspec": {
   "display_name": "Python 3",
   "language": "python",
   "name": "python3"
  },
  "language_info": {
   "codemirror_mode": {
    "name": "ipython",
    "version": 3
   },
   "file_extension": ".py",
   "mimetype": "text/x-python",
   "name": "python",
   "nbconvert_exporter": "python",
   "pygments_lexer": "ipython3",
   "version": "3.7.4"
  }
 },
 "nbformat": 4,
 "nbformat_minor": 2
}
